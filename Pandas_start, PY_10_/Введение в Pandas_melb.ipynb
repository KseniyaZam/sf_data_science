{
 "cells": [
  {
   "cell_type": "code",
   "execution_count": 9,
   "metadata": {},
   "outputs": [],
   "source": [
    "import pandas as pd\n",
    "melb_data = pd.read_csv('data/melb_data.csv', sep=',')"
   ]
  },
  {
   "cell_type": "code",
   "execution_count": 10,
   "metadata": {},
   "outputs": [
    {
     "data": {
      "text/html": [
       "<div>\n",
       "<style scoped>\n",
       "    .dataframe tbody tr th:only-of-type {\n",
       "        vertical-align: middle;\n",
       "    }\n",
       "\n",
       "    .dataframe tbody tr th {\n",
       "        vertical-align: top;\n",
       "    }\n",
       "\n",
       "    .dataframe thead th {\n",
       "        text-align: right;\n",
       "    }\n",
       "</style>\n",
       "<table border=\"1\" class=\"dataframe\">\n",
       "  <thead>\n",
       "    <tr style=\"text-align: right;\">\n",
       "      <th></th>\n",
       "      <th>index</th>\n",
       "      <th>Suburb</th>\n",
       "      <th>Address</th>\n",
       "      <th>Rooms</th>\n",
       "      <th>Type</th>\n",
       "      <th>Price</th>\n",
       "      <th>Method</th>\n",
       "      <th>SellerG</th>\n",
       "      <th>Date</th>\n",
       "      <th>Distance</th>\n",
       "      <th>...</th>\n",
       "      <th>Car</th>\n",
       "      <th>Landsize</th>\n",
       "      <th>BuildingArea</th>\n",
       "      <th>YearBuilt</th>\n",
       "      <th>CouncilArea</th>\n",
       "      <th>Lattitude</th>\n",
       "      <th>Longtitude</th>\n",
       "      <th>Regionname</th>\n",
       "      <th>Propertycount</th>\n",
       "      <th>Coordinates</th>\n",
       "    </tr>\n",
       "  </thead>\n",
       "  <tbody>\n",
       "    <tr>\n",
       "      <th>0</th>\n",
       "      <td>0</td>\n",
       "      <td>Abbotsford</td>\n",
       "      <td>85 Turner St</td>\n",
       "      <td>2</td>\n",
       "      <td>h</td>\n",
       "      <td>1480000.0</td>\n",
       "      <td>S</td>\n",
       "      <td>Biggin</td>\n",
       "      <td>3/12/2016</td>\n",
       "      <td>2.5</td>\n",
       "      <td>...</td>\n",
       "      <td>1.0</td>\n",
       "      <td>202.0</td>\n",
       "      <td>126.0</td>\n",
       "      <td>1970.0</td>\n",
       "      <td>Yarra</td>\n",
       "      <td>-37.7996</td>\n",
       "      <td>144.9984</td>\n",
       "      <td>Northern Metropolitan</td>\n",
       "      <td>4019.0</td>\n",
       "      <td>-37.7996, 144.9984</td>\n",
       "    </tr>\n",
       "    <tr>\n",
       "      <th>1</th>\n",
       "      <td>1</td>\n",
       "      <td>Abbotsford</td>\n",
       "      <td>25 Bloomburg St</td>\n",
       "      <td>2</td>\n",
       "      <td>h</td>\n",
       "      <td>1035000.0</td>\n",
       "      <td>S</td>\n",
       "      <td>Biggin</td>\n",
       "      <td>4/02/2016</td>\n",
       "      <td>2.5</td>\n",
       "      <td>...</td>\n",
       "      <td>0.0</td>\n",
       "      <td>156.0</td>\n",
       "      <td>79.0</td>\n",
       "      <td>1900.0</td>\n",
       "      <td>Yarra</td>\n",
       "      <td>-37.8079</td>\n",
       "      <td>144.9934</td>\n",
       "      <td>Northern Metropolitan</td>\n",
       "      <td>4019.0</td>\n",
       "      <td>-37.8079, 144.9934</td>\n",
       "    </tr>\n",
       "    <tr>\n",
       "      <th>2</th>\n",
       "      <td>2</td>\n",
       "      <td>Abbotsford</td>\n",
       "      <td>5 Charles St</td>\n",
       "      <td>3</td>\n",
       "      <td>h</td>\n",
       "      <td>1465000.0</td>\n",
       "      <td>SP</td>\n",
       "      <td>Biggin</td>\n",
       "      <td>4/03/2017</td>\n",
       "      <td>2.5</td>\n",
       "      <td>...</td>\n",
       "      <td>0.0</td>\n",
       "      <td>134.0</td>\n",
       "      <td>150.0</td>\n",
       "      <td>1900.0</td>\n",
       "      <td>Yarra</td>\n",
       "      <td>-37.8093</td>\n",
       "      <td>144.9944</td>\n",
       "      <td>Northern Metropolitan</td>\n",
       "      <td>4019.0</td>\n",
       "      <td>-37.8093, 144.9944</td>\n",
       "    </tr>\n",
       "    <tr>\n",
       "      <th>3</th>\n",
       "      <td>3</td>\n",
       "      <td>Abbotsford</td>\n",
       "      <td>40 Federation La</td>\n",
       "      <td>3</td>\n",
       "      <td>h</td>\n",
       "      <td>850000.0</td>\n",
       "      <td>PI</td>\n",
       "      <td>Biggin</td>\n",
       "      <td>4/03/2017</td>\n",
       "      <td>2.5</td>\n",
       "      <td>...</td>\n",
       "      <td>1.0</td>\n",
       "      <td>94.0</td>\n",
       "      <td>126.0</td>\n",
       "      <td>1970.0</td>\n",
       "      <td>Yarra</td>\n",
       "      <td>-37.7969</td>\n",
       "      <td>144.9969</td>\n",
       "      <td>Northern Metropolitan</td>\n",
       "      <td>4019.0</td>\n",
       "      <td>-37.7969, 144.9969</td>\n",
       "    </tr>\n",
       "    <tr>\n",
       "      <th>4</th>\n",
       "      <td>4</td>\n",
       "      <td>Abbotsford</td>\n",
       "      <td>55a Park St</td>\n",
       "      <td>4</td>\n",
       "      <td>h</td>\n",
       "      <td>1600000.0</td>\n",
       "      <td>VB</td>\n",
       "      <td>Nelson</td>\n",
       "      <td>4/06/2016</td>\n",
       "      <td>2.5</td>\n",
       "      <td>...</td>\n",
       "      <td>2.0</td>\n",
       "      <td>120.0</td>\n",
       "      <td>142.0</td>\n",
       "      <td>2014.0</td>\n",
       "      <td>Yarra</td>\n",
       "      <td>-37.8072</td>\n",
       "      <td>144.9941</td>\n",
       "      <td>Northern Metropolitan</td>\n",
       "      <td>4019.0</td>\n",
       "      <td>-37.8072, 144.9941</td>\n",
       "    </tr>\n",
       "  </tbody>\n",
       "</table>\n",
       "<p>5 rows × 23 columns</p>\n",
       "</div>"
      ],
      "text/plain": [
       "   index      Suburb           Address  Rooms Type      Price Method SellerG  \\\n",
       "0      0  Abbotsford      85 Turner St      2    h  1480000.0      S  Biggin   \n",
       "1      1  Abbotsford   25 Bloomburg St      2    h  1035000.0      S  Biggin   \n",
       "2      2  Abbotsford      5 Charles St      3    h  1465000.0     SP  Biggin   \n",
       "3      3  Abbotsford  40 Federation La      3    h   850000.0     PI  Biggin   \n",
       "4      4  Abbotsford       55a Park St      4    h  1600000.0     VB  Nelson   \n",
       "\n",
       "        Date  Distance  ...  Car  Landsize  BuildingArea  YearBuilt  \\\n",
       "0  3/12/2016       2.5  ...  1.0     202.0         126.0     1970.0   \n",
       "1  4/02/2016       2.5  ...  0.0     156.0          79.0     1900.0   \n",
       "2  4/03/2017       2.5  ...  0.0     134.0         150.0     1900.0   \n",
       "3  4/03/2017       2.5  ...  1.0      94.0         126.0     1970.0   \n",
       "4  4/06/2016       2.5  ...  2.0     120.0         142.0     2014.0   \n",
       "\n",
       "   CouncilArea  Lattitude  Longtitude             Regionname  Propertycount  \\\n",
       "0        Yarra   -37.7996    144.9984  Northern Metropolitan         4019.0   \n",
       "1        Yarra   -37.8079    144.9934  Northern Metropolitan         4019.0   \n",
       "2        Yarra   -37.8093    144.9944  Northern Metropolitan         4019.0   \n",
       "3        Yarra   -37.7969    144.9969  Northern Metropolitan         4019.0   \n",
       "4        Yarra   -37.8072    144.9941  Northern Metropolitan         4019.0   \n",
       "\n",
       "          Coordinates  \n",
       "0  -37.7996, 144.9984  \n",
       "1  -37.8079, 144.9934  \n",
       "2  -37.8093, 144.9944  \n",
       "3  -37.7969, 144.9969  \n",
       "4  -37.8072, 144.9941  \n",
       "\n",
       "[5 rows x 23 columns]"
      ]
     },
     "metadata": {},
     "output_type": "display_data"
    }
   ],
   "source": [
    "display(melb_data.head())"
   ]
  },
  {
   "cell_type": "code",
   "execution_count": 11,
   "metadata": {},
   "outputs": [
    {
     "name": "stdout",
     "output_type": "stream",
     "text": [
      "<class 'pandas.core.frame.DataFrame'>\n",
      "RangeIndex: 13580 entries, 0 to 13579\n",
      "Data columns (total 23 columns):\n",
      " #   Column         Non-Null Count  Dtype  \n",
      "---  ------         --------------  -----  \n",
      " 0   index          13580 non-null  int64  \n",
      " 1   Suburb         13580 non-null  object \n",
      " 2   Address        13580 non-null  object \n",
      " 3   Rooms          13580 non-null  int64  \n",
      " 4   Type           13580 non-null  object \n",
      " 5   Price          13580 non-null  float64\n",
      " 6   Method         13580 non-null  object \n",
      " 7   SellerG        13580 non-null  object \n",
      " 8   Date           13580 non-null  object \n",
      " 9   Distance       13580 non-null  float64\n",
      " 10  Postcode       13580 non-null  int64  \n",
      " 11  Bedroom        13580 non-null  float64\n",
      " 12  Bathroom       13580 non-null  float64\n",
      " 13  Car            13580 non-null  float64\n",
      " 14  Landsize       13580 non-null  float64\n",
      " 15  BuildingArea   13580 non-null  float64\n",
      " 16  YearBuilt      13580 non-null  float64\n",
      " 17  CouncilArea    12211 non-null  object \n",
      " 18  Lattitude      13580 non-null  float64\n",
      " 19  Longtitude     13580 non-null  float64\n",
      " 20  Regionname     13580 non-null  object \n",
      " 21  Propertycount  13580 non-null  float64\n",
      " 22  Coordinates    13580 non-null  object \n",
      "dtypes: float64(11), int64(3), object(9)\n",
      "memory usage: 2.4+ MB\n"
     ]
    }
   ],
   "source": [
    "melb_data.info()"
   ]
  },
  {
   "cell_type": "code",
   "execution_count": 12,
   "metadata": {},
   "outputs": [
    {
     "name": "stdout",
     "output_type": "stream",
     "text": [
      "<class 'pandas.core.frame.DataFrame'>\n",
      "RangeIndex: 13580 entries, 0 to 13579\n",
      "Data columns (total 23 columns):\n",
      " #   Column         Non-Null Count  Dtype  \n",
      "---  ------         --------------  -----  \n",
      " 0   index          13580 non-null  int64  \n",
      " 1   Suburb         13580 non-null  object \n",
      " 2   Address        13580 non-null  object \n",
      " 3   Rooms          13580 non-null  int64  \n",
      " 4   Type           13580 non-null  object \n",
      " 5   Price          13580 non-null  float64\n",
      " 6   Method         13580 non-null  object \n",
      " 7   SellerG        13580 non-null  object \n",
      " 8   Date           13580 non-null  object \n",
      " 9   Distance       13580 non-null  float64\n",
      " 10  Postcode       13580 non-null  int64  \n",
      " 11  Bedroom        13580 non-null  int64  \n",
      " 12  Bathroom       13580 non-null  int64  \n",
      " 13  Car            13580 non-null  int64  \n",
      " 14  Landsize       13580 non-null  float64\n",
      " 15  BuildingArea   13580 non-null  float64\n",
      " 16  YearBuilt      13580 non-null  int64  \n",
      " 17  CouncilArea    12211 non-null  object \n",
      " 18  Lattitude      13580 non-null  float64\n",
      " 19  Longtitude     13580 non-null  float64\n",
      " 20  Regionname     13580 non-null  object \n",
      " 21  Propertycount  13580 non-null  int64  \n",
      " 22  Coordinates    13580 non-null  object \n",
      "dtypes: float64(6), int64(8), object(9)\n",
      "memory usage: 2.4+ MB\n"
     ]
    }
   ],
   "source": [
    "melb_data['Car'] = melb_data['Car'].astype('int64')\n",
    "melb_data['Bedroom'] = melb_data['Bedroom'].astype('int64')\n",
    "melb_data['Bathroom'] = melb_data['Bathroom'].astype('int64')\n",
    "melb_data['Propertycount'] = melb_data['Propertycount'].astype('int64')\n",
    "melb_data['YearBuilt'] = melb_data['YearBuilt'].astype('int64')\n",
    "melb_data.info()"
   ]
  },
  {
   "cell_type": "code",
   "execution_count": 13,
   "metadata": {},
   "outputs": [
    {
     "data": {
      "text/html": [
       "<div>\n",
       "<style scoped>\n",
       "    .dataframe tbody tr th:only-of-type {\n",
       "        vertical-align: middle;\n",
       "    }\n",
       "\n",
       "    .dataframe tbody tr th {\n",
       "        vertical-align: top;\n",
       "    }\n",
       "\n",
       "    .dataframe thead th {\n",
       "        text-align: right;\n",
       "    }\n",
       "</style>\n",
       "<table border=\"1\" class=\"dataframe\">\n",
       "  <thead>\n",
       "    <tr style=\"text-align: right;\">\n",
       "      <th></th>\n",
       "      <th>Distance</th>\n",
       "      <th>BuildingArea</th>\n",
       "      <th>Price</th>\n",
       "    </tr>\n",
       "  </thead>\n",
       "  <tbody>\n",
       "    <tr>\n",
       "      <th>count</th>\n",
       "      <td>13580.000000</td>\n",
       "      <td>13580.000000</td>\n",
       "      <td>1.358000e+04</td>\n",
       "    </tr>\n",
       "    <tr>\n",
       "      <th>mean</th>\n",
       "      <td>10.137776</td>\n",
       "      <td>139.633972</td>\n",
       "      <td>1.075684e+06</td>\n",
       "    </tr>\n",
       "    <tr>\n",
       "      <th>std</th>\n",
       "      <td>5.868725</td>\n",
       "      <td>392.217403</td>\n",
       "      <td>6.393107e+05</td>\n",
       "    </tr>\n",
       "    <tr>\n",
       "      <th>min</th>\n",
       "      <td>0.000000</td>\n",
       "      <td>0.000000</td>\n",
       "      <td>8.500000e+04</td>\n",
       "    </tr>\n",
       "    <tr>\n",
       "      <th>25%</th>\n",
       "      <td>6.100000</td>\n",
       "      <td>122.000000</td>\n",
       "      <td>6.500000e+05</td>\n",
       "    </tr>\n",
       "    <tr>\n",
       "      <th>50%</th>\n",
       "      <td>9.200000</td>\n",
       "      <td>126.000000</td>\n",
       "      <td>9.030000e+05</td>\n",
       "    </tr>\n",
       "    <tr>\n",
       "      <th>75%</th>\n",
       "      <td>13.000000</td>\n",
       "      <td>129.940000</td>\n",
       "      <td>1.330000e+06</td>\n",
       "    </tr>\n",
       "    <tr>\n",
       "      <th>max</th>\n",
       "      <td>48.100000</td>\n",
       "      <td>44515.000000</td>\n",
       "      <td>9.000000e+06</td>\n",
       "    </tr>\n",
       "  </tbody>\n",
       "</table>\n",
       "</div>"
      ],
      "text/plain": [
       "           Distance  BuildingArea         Price\n",
       "count  13580.000000  13580.000000  1.358000e+04\n",
       "mean      10.137776    139.633972  1.075684e+06\n",
       "std        5.868725    392.217403  6.393107e+05\n",
       "min        0.000000      0.000000  8.500000e+04\n",
       "25%        6.100000    122.000000  6.500000e+05\n",
       "50%        9.200000    126.000000  9.030000e+05\n",
       "75%       13.000000    129.940000  1.330000e+06\n",
       "max       48.100000  44515.000000  9.000000e+06"
      ]
     },
     "execution_count": 13,
     "metadata": {},
     "output_type": "execute_result"
    }
   ],
   "source": [
    "melb_data.describe().loc[:, ['Distance', 'BuildingArea' , 'Price']]"
   ]
  },
  {
   "cell_type": "code",
   "execution_count": 14,
   "metadata": {},
   "outputs": [
    {
     "data": {
      "text/html": [
       "<div>\n",
       "<style scoped>\n",
       "    .dataframe tbody tr th:only-of-type {\n",
       "        vertical-align: middle;\n",
       "    }\n",
       "\n",
       "    .dataframe tbody tr th {\n",
       "        vertical-align: top;\n",
       "    }\n",
       "\n",
       "    .dataframe thead th {\n",
       "        text-align: right;\n",
       "    }\n",
       "</style>\n",
       "<table border=\"1\" class=\"dataframe\">\n",
       "  <thead>\n",
       "    <tr style=\"text-align: right;\">\n",
       "      <th></th>\n",
       "      <th>Suburb</th>\n",
       "      <th>Address</th>\n",
       "      <th>Type</th>\n",
       "      <th>Method</th>\n",
       "      <th>SellerG</th>\n",
       "      <th>Date</th>\n",
       "      <th>CouncilArea</th>\n",
       "      <th>Regionname</th>\n",
       "      <th>Coordinates</th>\n",
       "    </tr>\n",
       "  </thead>\n",
       "  <tbody>\n",
       "    <tr>\n",
       "      <th>count</th>\n",
       "      <td>13580</td>\n",
       "      <td>13580</td>\n",
       "      <td>13580</td>\n",
       "      <td>13580</td>\n",
       "      <td>13580</td>\n",
       "      <td>13580</td>\n",
       "      <td>12211</td>\n",
       "      <td>13580</td>\n",
       "      <td>13580</td>\n",
       "    </tr>\n",
       "    <tr>\n",
       "      <th>unique</th>\n",
       "      <td>314</td>\n",
       "      <td>13378</td>\n",
       "      <td>3</td>\n",
       "      <td>5</td>\n",
       "      <td>268</td>\n",
       "      <td>58</td>\n",
       "      <td>33</td>\n",
       "      <td>8</td>\n",
       "      <td>13097</td>\n",
       "    </tr>\n",
       "    <tr>\n",
       "      <th>top</th>\n",
       "      <td>Reservoir</td>\n",
       "      <td>36 Aberfeldie St</td>\n",
       "      <td>h</td>\n",
       "      <td>S</td>\n",
       "      <td>Nelson</td>\n",
       "      <td>27/05/2017</td>\n",
       "      <td>Moreland</td>\n",
       "      <td>Southern Metropolitan</td>\n",
       "      <td>-37.8361, 144.9966</td>\n",
       "    </tr>\n",
       "    <tr>\n",
       "      <th>freq</th>\n",
       "      <td>359</td>\n",
       "      <td>3</td>\n",
       "      <td>9449</td>\n",
       "      <td>9022</td>\n",
       "      <td>1565</td>\n",
       "      <td>473</td>\n",
       "      <td>1163</td>\n",
       "      <td>4695</td>\n",
       "      <td>12</td>\n",
       "    </tr>\n",
       "  </tbody>\n",
       "</table>\n",
       "</div>"
      ],
      "text/plain": [
       "           Suburb           Address   Type Method SellerG        Date  \\\n",
       "count       13580             13580  13580  13580   13580       13580   \n",
       "unique        314             13378      3      5     268          58   \n",
       "top     Reservoir  36 Aberfeldie St      h      S  Nelson  27/05/2017   \n",
       "freq          359                 3   9449   9022    1565         473   \n",
       "\n",
       "       CouncilArea             Regionname         Coordinates  \n",
       "count        12211                  13580               13580  \n",
       "unique          33                      8               13097  \n",
       "top       Moreland  Southern Metropolitan  -37.8361, 144.9966  \n",
       "freq          1163                   4695                  12  "
      ]
     },
     "execution_count": 14,
     "metadata": {},
     "output_type": "execute_result"
    }
   ],
   "source": [
    "melb_data.describe(include=['object'])"
   ]
  },
  {
   "cell_type": "code",
   "execution_count": 15,
   "metadata": {},
   "outputs": [
    {
     "data": {
      "text/plain": [
       "Southern Metropolitan         4695\n",
       "Northern Metropolitan         3890\n",
       "Western Metropolitan          2948\n",
       "Eastern Metropolitan          1471\n",
       "South-Eastern Metropolitan     450\n",
       "Eastern Victoria                53\n",
       "Northern Victoria               41\n",
       "Western Victoria                32\n",
       "Name: Regionname, dtype: int64"
      ]
     },
     "execution_count": 15,
     "metadata": {},
     "output_type": "execute_result"
    }
   ],
   "source": [
    "melb_data['Regionname'].value_counts()"
   ]
  },
  {
   "cell_type": "code",
   "execution_count": 16,
   "metadata": {},
   "outputs": [
    {
     "data": {
      "text/plain": [
       "Southern Metropolitan         0.345729\n",
       "Northern Metropolitan         0.286451\n",
       "Western Metropolitan          0.217084\n",
       "Eastern Metropolitan          0.108321\n",
       "South-Eastern Metropolitan    0.033137\n",
       "Eastern Victoria              0.003903\n",
       "Northern Victoria             0.003019\n",
       "Western Victoria              0.002356\n",
       "Name: Regionname, dtype: float64"
      ]
     },
     "execution_count": 16,
     "metadata": {},
     "output_type": "execute_result"
    }
   ],
   "source": [
    "melb_data['Regionname'].value_counts(normalize=True)"
   ]
  },
  {
   "cell_type": "code",
   "execution_count": 18,
   "metadata": {},
   "outputs": [
    {
     "data": {
      "text/plain": [
       "h    0.695803\n",
       "u    0.222165\n",
       "t    0.082032\n",
       "Name: Type, dtype: float64"
      ]
     },
     "execution_count": 18,
     "metadata": {},
     "output_type": "execute_result"
    }
   ],
   "source": [
    "melb_data['Type'].value_counts(normalize=True)"
   ]
  },
  {
   "cell_type": "code",
   "execution_count": 19,
   "metadata": {},
   "outputs": [
    {
     "name": "stdout",
     "output_type": "stream",
     "text": [
      "1075684.079455081\n"
     ]
    }
   ],
   "source": [
    "print(melb_data['Price'].mean())"
   ]
  },
  {
   "cell_type": "code",
   "execution_count": 20,
   "metadata": {},
   "outputs": [
    {
     "name": "stdout",
     "output_type": "stream",
     "text": [
      "10\n"
     ]
    }
   ],
   "source": [
    "print(melb_data['Car'].max())"
   ]
  },
  {
   "cell_type": "code",
   "execution_count": 21,
   "metadata": {},
   "outputs": [
    {
     "name": "stdout",
     "output_type": "stream",
     "text": [
      "Total income of real estate agencies: 1752934775.88\n"
     ]
    }
   ],
   "source": [
    "rate = 0.12\n",
    "income = melb_data['Price'].sum() * rate\n",
    "print('Total income of real estate agencies:', round(income, 2))"
   ]
  },
  {
   "cell_type": "code",
   "execution_count": 22,
   "metadata": {},
   "outputs": [
    {
     "name": "stdout",
     "output_type": "stream",
     "text": [
      "0.21205713983546193\n"
     ]
    }
   ],
   "source": [
    "landsize_median = melb_data['Landsize'].median() \n",
    "landsize_mean =  melb_data['Landsize'].mean()\n",
    "print(abs(landsize_median - landsize_mean)/landsize_mean)"
   ]
  },
  {
   "cell_type": "code",
   "execution_count": 23,
   "metadata": {},
   "outputs": [
    {
     "name": "stdout",
     "output_type": "stream",
     "text": [
      "0    Southern Metropolitan\n",
      "Name: Regionname, dtype: object\n"
     ]
    }
   ],
   "source": [
    "print(melb_data['Regionname'].mode())"
   ]
  },
  {
   "cell_type": "code",
   "execution_count": 35,
   "metadata": {},
   "outputs": [
    {
     "name": "stdout",
     "output_type": "stream",
     "text": [
      "0    3\n",
      "Name: Rooms, dtype: int64\n"
     ]
    }
   ],
   "source": [
    "print(melb_data['Rooms'].mode())"
   ]
  },
  {
   "cell_type": "code",
   "execution_count": 26,
   "metadata": {},
   "outputs": [
    {
     "name": "stdout",
     "output_type": "stream",
     "text": [
      "0.09764079662364533\n"
     ]
    }
   ],
   "source": [
    "s_median = melb_data['BuildingArea'].median() \n",
    "s_mean =  melb_data['BuildingArea'].mean()\n",
    "print(abs(s_median - s_mean)/s_mean)"
   ]
  },
  {
   "cell_type": "code",
   "execution_count": 30,
   "metadata": {},
   "outputs": [
    {
     "name": "stdout",
     "output_type": "stream",
     "text": [
      "   0\n",
      "0  2\n",
      "   0\n",
      "0  1\n",
      "1  2\n",
      "2  4\n",
      "3  2\n",
      "4  3\n",
      "5  2\n",
      "6  1\n",
      "7  5\n",
      "8  6\n"
     ]
    }
   ],
   "source": [
    "g=pd.DataFrame([1, 2, 4, 2, 3, 2, 1, 5, 6])\n",
    "print(g.mode())\n",
    "print(g)\n"
   ]
  },
  {
   "cell_type": "code",
   "execution_count": 36,
   "metadata": {},
   "outputs": [
    {
     "data": {
      "text/plain": [
       "5"
      ]
     },
     "execution_count": 36,
     "metadata": {},
     "output_type": "execute_result"
    }
   ],
   "source": [
    "melb_data[melb_data['Type'] == 't']['Rooms'].max()"
   ]
  },
  {
   "cell_type": "code",
   "execution_count": 37,
   "metadata": {},
   "outputs": [
    {
     "data": {
      "text/plain": [
       "126.0"
      ]
     },
     "execution_count": 37,
     "metadata": {},
     "output_type": "execute_result"
    }
   ],
   "source": [
    "mean_price = melb_data['Price'].mean()\n",
    "melb_data[melb_data['Price'] > mean_price]['BuildingArea'].median()"
   ]
  },
  {
   "cell_type": "code",
   "execution_count": 44,
   "metadata": {},
   "outputs": [
    {
     "name": "stdout",
     "output_type": "stream",
     "text": [
      "       index           Suburb            Address  Rooms Type      Price  \\\n",
      "139      139       Alphington        6 Naroon Rd      3    h  1485000.0   \n",
      "281      281         Armadale    3/50 Denbigh Rd      2    u   546000.0   \n",
      "505      505        Balaclava     5/11 Albion St      2    u   497500.0   \n",
      "584      584           Balwyn     5 Shrimpton Ct      2    h  1010000.0   \n",
      "913      913   Bentleigh East    579 Warrigal Rd      3    h   700000.0   \n",
      "1063    1063         Brighton          17 New St      3    h  1900000.0   \n",
      "1070    1070         Brighton        1/5 Webb St      3    t  1067000.0   \n",
      "1593    1593       Camberwell   5 Nicholsdale Rd      4    h  1400000.0   \n",
      "2253    2253      Elsternwick    5/29 Nepean Hwy      2    u   410000.0   \n",
      "2777    2777        Glen Iris         25 Hope St      2    h   845000.0   \n",
      "2797    2797        Glen Iris        130 High St      4    h  1550000.0   \n",
      "2808    2808        Glen Iris    1/64 Edgar St N      2    u   545000.0   \n",
      "3390    3390          Ivanhoe  5/125 Locksley Rd      2    u   460000.0   \n",
      "3556    3556       Kensington      7/51 Epsom Rd      2    u   526000.0   \n",
      "3787    3787          Malvern       42 Cressy St      2    h   780000.0   \n",
      "4880    4880          Preston       19 Malpas St      4    h  1004000.0   \n",
      "5535    5535  South Melbourne          3 Park Pl      1    u   760500.0   \n",
      "5642    5642      South Yarra   82/390 Toorak Rd      3    u  1072000.0   \n",
      "5711    5711      South Yarra     2/28 Tivoli Pl      2    u   910000.0   \n",
      "6392    6392           Toorak   1/183 Kooyong Rd      2    u   857000.0   \n",
      "6406    6406           Toorak   6/183 Kooyong Rd      2    u   866000.0   \n",
      "6651    6651       Yarraville    1/53 Stephen St      2    u   410000.0   \n",
      "6671    6671       Yarraville     1a Kingston St      2    h   610000.0   \n",
      "6856    6856   East Melbourne     37/22 Agnes St      2    u   740000.0   \n",
      "6866    6866   East Melbourne    9/35 Powlett St      2    u   872000.0   \n",
      "6938    6938          Fawkner      1/66 Lorne St      3    u   470000.0   \n",
      "7494    7494     Balwyn North   215 Doncaster Rd      3    h  1670000.0   \n",
      "8010    8010          Ivanhoe     1/53 Norman St      3    t  1060000.0   \n",
      "8271    8271          Preston       86 Malpas St      3    h  1010000.0   \n",
      "9090    9090   Caulfield East     5/33 Grange Rd      2    u   350000.0   \n",
      "9917    9917         Hawthorn     1/30 Lisson Gr      2    h  1480000.0   \n",
      "10795  10795          Preston     24 Mitchell St      3    h  1150000.0   \n",
      "10895  10895        Balaclava    9/36 The Avenue      2    u   700000.0   \n",
      "11204  11204        St Albans       148 Power St      3    h   702000.0   \n",
      "\n",
      "      Method        SellerG        Date  Distance  ...  Car  Landsize  \\\n",
      "139       SP        McGrath  28/08/2016       6.4  ...    0     597.0   \n",
      "281       SP  hockingstuart  30/07/2016       6.3  ...    0       0.0   \n",
      "505       PI  hockingstuart  28/08/2016       6.6  ...    0       0.0   \n",
      "584       PI       Marshall  30/07/2016       9.7  ...    0    1611.0   \n",
      "913        S        Thomson  22/05/2016      13.9  ...    0     456.0   \n",
      "1063       S       Marshall   6/08/2016      11.2  ...    0       0.0   \n",
      "1070       S            Kay   7/05/2016      11.2  ...    1       0.0   \n",
      "1593      PI         Jellis  16/04/2016       7.8  ...    0     693.0   \n",
      "2253      VB           Gary  28/05/2016       8.5  ...    0       0.0   \n",
      "2777       S           Noel  10/09/2016       9.2  ...    0     207.0   \n",
      "2797      PI         Jellis  14/05/2016       9.2  ...    0     769.0   \n",
      "2808       S      Fletchers  16/07/2016       9.2  ...    0       0.0   \n",
      "3390      VB      Fletchers  16/04/2016       7.9  ...    0       0.0   \n",
      "3556       S         Nelson  22/08/2016       4.2  ...    0       0.0   \n",
      "3787      VB         Jellis  14/05/2016       7.4  ...    0       0.0   \n",
      "4880       S         Nelson   3/09/2016       8.8  ...    0     650.0   \n",
      "5535       S       Marshall   4/06/2016       2.1  ...    0     438.0   \n",
      "5642       S            Kay  13/08/2016       3.3  ...    0       0.0   \n",
      "5711       S       Williams  28/08/2016       3.3  ...    0       0.0   \n",
      "6392       S          Walsh  22/08/2016       4.6  ...    0       0.0   \n",
      "6406       S       Marshall  30/07/2016       4.6  ...    0       0.0   \n",
      "6651      PI  hockingstuart   6/08/2016       7.0  ...    0       0.0   \n",
      "6671      SP            Jas  15/10/2016       7.0  ...    0      94.0   \n",
      "6856      SP       Woodards   8/10/2016       1.5  ...    0       0.0   \n",
      "6866       S         Dingle  28/05/2016       1.5  ...    0       0.0   \n",
      "6938      SP           Brad  26/07/2016      12.4  ...    0     261.0   \n",
      "7494       S  hockingstuart  29/04/2017       9.2  ...    0     818.0   \n",
      "8010       S   Purplebricks  29/04/2017       7.9  ...    0     219.0   \n",
      "8271      SP        McGrath  20/05/2017       8.8  ...    0     533.0   \n",
      "9090      SP           Gary   3/06/2017       8.4  ...    0       0.0   \n",
      "9917       S       Marshall  24/06/2017       5.3  ...    0     241.0   \n",
      "10795     SP        McGrath   8/07/2017       8.4  ...    0     502.0   \n",
      "10895     SP       Marshall  12/08/2017       6.4  ...    0       0.0   \n",
      "11204     SP        Sweeney  12/08/2017      14.0  ...    0     600.0   \n",
      "\n",
      "       BuildingArea  YearBuilt   CouncilArea  Lattitude  Longtitude  \\\n",
      "139           126.0       1970       Darebin  -37.77810   145.02840   \n",
      "281           126.0       1970   Stonnington  -37.85680   145.01610   \n",
      "505           126.0       1970  Port Phillip  -37.87390   144.99290   \n",
      "584           126.0       1970    Boroondara  -37.80920   145.10160   \n",
      "913           126.0       1970     Glen Eira  -37.93140   145.08080   \n",
      "1063          126.0       1970       Bayside  -37.93010   144.99350   \n",
      "1070          126.0       1970       Bayside  -37.91190   144.98710   \n",
      "1593          126.0       1935    Boroondara  -37.83600   145.09140   \n",
      "2253          126.0       1970     Glen Eira  -37.88630   144.99960   \n",
      "2777          126.0       1970   Stonnington  -37.86300   145.05010   \n",
      "2797          126.0       1970    Boroondara  -37.86280   145.07340   \n",
      "2808          126.0       1970   Stonnington  -37.85000   145.04650   \n",
      "3390          126.0       1970       Banyule  -37.76620   145.05160   \n",
      "3556          126.0       1970     Melbourne  -37.79190   144.92530   \n",
      "3787          126.0       1970   Stonnington  -37.85020   145.04180   \n",
      "4880          126.0       1970       Darebin  -37.73460   145.02260   \n",
      "5535          126.0       1970  Port Phillip  -37.83530   144.96000   \n",
      "5642          126.0       1970   Stonnington  -37.84070   145.00430   \n",
      "5711          126.0       1970     Melbourne  -37.83570   144.98590   \n",
      "6392          126.0       1970   Stonnington  -37.84580   145.02210   \n",
      "6406          126.0       1970   Stonnington  -37.84580   145.02210   \n",
      "6651          126.0       1970   Maribyrnong  -37.81290   144.89520   \n",
      "6671          126.0       1970   Maribyrnong  -37.81500   144.88270   \n",
      "6856          126.0       1970     Melbourne  -37.81770   144.98010   \n",
      "6866          126.0       1970     Melbourne  -37.81540   144.98510   \n",
      "6938          126.0       1970      Moreland  -37.71580   144.97220   \n",
      "7494          126.0       1970    Boroondara  -37.79390   145.08660   \n",
      "8010          126.0       1980       Banyule  -37.76790   145.04660   \n",
      "8271          126.0       1970       Darebin  -37.73360   145.01680   \n",
      "9090          126.0       1970     Glen Eira  -37.88385   145.04785   \n",
      "9917          126.0       1970    Boroondara  -37.82679   145.03021   \n",
      "10795         126.0       1970       Darebin  -37.74936   144.98949   \n",
      "10895         126.0       1970  Port Phillip  -37.87149   144.99746   \n",
      "11204         126.0       1970      Brimbank  -37.72945   144.79592   \n",
      "\n",
      "                  Regionname  Propertycount           Coordinates  \n",
      "139    Northern Metropolitan           2211    -37.7781, 145.0284  \n",
      "281    Southern Metropolitan           4836    -37.8568, 145.0161  \n",
      "505    Southern Metropolitan           2952    -37.8739, 144.9929  \n",
      "584    Southern Metropolitan           5682    -37.8092, 145.1016  \n",
      "913    Southern Metropolitan          10969    -37.9314, 145.0808  \n",
      "1063   Southern Metropolitan          10579    -37.9301, 144.9935  \n",
      "1070   Southern Metropolitan          10579    -37.9119, 144.9871  \n",
      "1593   Southern Metropolitan           8920     -37.836, 145.0914  \n",
      "2253   Southern Metropolitan           4898    -37.8863, 144.9996  \n",
      "2777   Southern Metropolitan          10412     -37.863, 145.0501  \n",
      "2797   Southern Metropolitan          10412    -37.8628, 145.0734  \n",
      "2808   Southern Metropolitan          10412      -37.85, 145.0465  \n",
      "3390    Eastern Metropolitan           5549    -37.7662, 145.0516  \n",
      "3556   Northern Metropolitan           5263    -37.7919, 144.9253  \n",
      "3787   Southern Metropolitan           4675    -37.8502, 145.0418  \n",
      "4880   Northern Metropolitan          14577    -37.7346, 145.0226  \n",
      "5535   Southern Metropolitan           5943      -37.8353, 144.96  \n",
      "5642   Southern Metropolitan          14887    -37.8407, 145.0043  \n",
      "5711   Southern Metropolitan          14887    -37.8357, 144.9859  \n",
      "6392   Southern Metropolitan           7217    -37.8458, 145.0221  \n",
      "6406   Southern Metropolitan           7217    -37.8458, 145.0221  \n",
      "6651    Western Metropolitan           6543    -37.8129, 144.8952  \n",
      "6671    Western Metropolitan           6543     -37.815, 144.8827  \n",
      "6856   Northern Metropolitan           3040    -37.8177, 144.9801  \n",
      "6866   Northern Metropolitan           3040    -37.8154, 144.9851  \n",
      "6938   Northern Metropolitan           5070    -37.7158, 144.9722  \n",
      "7494   Southern Metropolitan           7809    -37.7939, 145.0866  \n",
      "8010    Eastern Metropolitan           5549    -37.7679, 145.0466  \n",
      "8271   Northern Metropolitan          14577    -37.7336, 145.0168  \n",
      "9090   Southern Metropolitan            608  -37.88385, 145.04785  \n",
      "9917   Southern Metropolitan          11308  -37.82679, 145.03021  \n",
      "10795  Northern Metropolitan          14577  -37.74936, 144.98949  \n",
      "10895  Southern Metropolitan           2952  -37.87149, 144.99746  \n",
      "11204   Western Metropolitan          14042  -37.72945, 144.79592  \n",
      "\n",
      "[34 rows x 23 columns]\n"
     ]
    }
   ],
   "source": [
    "print(melb_data[melb_data['Bathroom']== 0])"
   ]
  },
  {
   "cell_type": "code",
   "execution_count": 46,
   "metadata": {},
   "outputs": [
    {
     "name": "stdout",
     "output_type": "stream",
     "text": [
      "       index         Suburb            Address  Rooms Type      Price Method  \\\n",
      "2553    2553        Fitzroy         17 Bell St      4    h  4011000.0      S   \n",
      "2579    2579  Fitzroy North    79 Delbridge St      4    h  3400000.0      S   \n",
      "6734    6734     Aberfeldie  126 The Boulevard      4    h  3900000.0      S   \n",
      "7695    7695  Carlton North       235 Amess St      4    h  3450000.0      S   \n",
      "11023  11023        Fitzroy   122 Nicholson St      4    h  3200000.0     VB   \n",
      "\n",
      "      SellerG        Date  Distance  ...  Car  Landsize  BuildingArea  \\\n",
      "2553   Nelson  27/11/2016       1.6  ...    2     286.0         275.0   \n",
      "2579   Nelson  14/05/2016       3.5  ...    1     445.0         175.0   \n",
      "6734   Nelson  10/12/2016       9.1  ...    4     670.0         375.0   \n",
      "7695   Nelson  13/05/2017       3.2  ...    1     515.0         203.0   \n",
      "11023  Nelson  12/08/2017       2.1  ...    0     225.0         126.0   \n",
      "\n",
      "       YearBuilt    CouncilArea  Lattitude  Longtitude             Regionname  \\\n",
      "2553        1890          Yarra  -37.79990   144.97550  Northern Metropolitan   \n",
      "2579        1890          Yarra  -37.78600   144.98640  Northern Metropolitan   \n",
      "6734        2010  Moonee Valley  -37.76370   144.89310   Western Metropolitan   \n",
      "7695        1905          Yarra  -37.78170   144.97420  Northern Metropolitan   \n",
      "11023       1862          Yarra  -37.80209   144.97443  Northern Metropolitan   \n",
      "\n",
      "       Propertycount           Coordinates  \n",
      "2553            5825    -37.7999, 144.9755  \n",
      "2579            6244     -37.786, 144.9864  \n",
      "6734            1543    -37.7637, 144.8931  \n",
      "7695            3106    -37.7817, 144.9742  \n",
      "11023           5825  -37.80209, 144.97443  \n",
      "\n",
      "[5 rows x 23 columns]\n"
     ]
    }
   ],
   "source": [
    "print(melb_data[(melb_data['SellerG']=='Nelson') & (melb_data['Price']>3000000)])"
   ]
  },
  {
   "cell_type": "code",
   "execution_count": 50,
   "metadata": {},
   "outputs": [
    {
     "name": "stdout",
     "output_type": "stream",
     "text": [
      "412500.0\n"
     ]
    }
   ],
   "source": [
    "print(melb_data[melb_data['BuildingArea']==0]['Price'].min())"
   ]
  },
  {
   "cell_type": "code",
   "execution_count": 58,
   "metadata": {},
   "outputs": [
    {
     "name": "stdout",
     "output_type": "stream",
     "text": [
      "769238.6363636364\n"
     ]
    }
   ],
   "source": [
    "lim_price=melb_data['Price']<1000000\n",
    "print(melb_data[((melb_data['Rooms']>5) | (melb_data['YearBuilt']>2015))&(melb_data['Price']<1000000)]['Price'].mean())"
   ]
  },
  {
   "cell_type": "code",
   "execution_count": 59,
   "metadata": {},
   "outputs": [
    {
     "name": "stdout",
     "output_type": "stream",
     "text": [
      "0    Northern Metropolitan\n",
      "Name: Regionname, dtype: object\n"
     ]
    }
   ],
   "source": [
    "print(melb_data[(melb_data['Type']=='h')&(melb_data['Price']<3000000)]['Regionname'].mode())"
   ]
  },
  {
   "cell_type": "code",
   "execution_count": 62,
   "metadata": {},
   "outputs": [
    {
     "name": "stdout",
     "output_type": "stream",
     "text": [
      "68\n"
     ]
    }
   ],
   "source": [
    "mask1=(melb_data['Rooms']==3)\n",
    "mask2=(melb_data['BuildingArea']>100)\n",
    "mask3=(melb_data['Price']<300000)\n",
    "print(melb_data[(mask1|mask2)&mask3].shape[0])"
   ]
  }
 ],
 "metadata": {
  "kernelspec": {
   "display_name": "Python 3",
   "language": "python",
   "name": "python3"
  },
  "language_info": {
   "codemirror_mode": {
    "name": "ipython",
    "version": 3
   },
   "file_extension": ".py",
   "mimetype": "text/x-python",
   "name": "python",
   "nbconvert_exporter": "python",
   "pygments_lexer": "ipython3",
   "version": "3.9.10 (v3.9.10:f2f3f53782, Jan 13 2022, 16:55:46) \n[Clang 13.0.0 (clang-1300.0.29.30)]"
  },
  "orig_nbformat": 4,
  "vscode": {
   "interpreter": {
    "hash": "aee8b7b246df8f9039afb4144a1f6fd8d2ca17a180786b69acc140d282b71a49"
   }
  }
 },
 "nbformat": 4,
 "nbformat_minor": 2
}
